{
  "nbformat": 4,
  "nbformat_minor": 0,
  "metadata": {
    "colab": {
      "name": "2.26(Part2).ipynb",
      "provenance": [],
      "authorship_tag": "ABX9TyPrLtYguphZlib5VjGOFA8X",
      "include_colab_link": true
    },
    "kernelspec": {
      "name": "python3",
      "display_name": "Python 3"
    }
  },
  "cells": [
    {
      "cell_type": "markdown",
      "metadata": {
        "id": "view-in-github",
        "colab_type": "text"
      },
      "source": [
        "<a href=\"https://colab.research.google.com/github/BegginerPark/10th-Day/blob/main/2_26(Part2).ipynb\" target=\"_parent\"><img src=\"https://colab.research.google.com/assets/colab-badge.svg\" alt=\"Open In Colab\"/></a>"
      ]
    },
    {
      "cell_type": "code",
      "metadata": {
        "colab": {
          "base_uri": "https://localhost:8080/"
        },
        "id": "R8ekQOdrkbFw",
        "outputId": "6b02d920-ce3c-4710-89d9-ba70369e5fea"
      },
      "source": [
        "## 문제 37: count 함수 사용하기\r\n",
        "# count 함수 : 변수.count(value)\r\n",
        "\r\n",
        "# a = 'ooyyy'\r\n",
        "# a.count('y')\r\n",
        "\r\n",
        "# b = 'ox o x oxoxoxoxo'\r\n",
        "# b.count('ox')\r\n",
        "\r\n",
        "a = [1,1,1,2,3]\r\n",
        "a.count(1)\r\n",
        "\r\n",
        "원영 원영 은비 은비 은비 은비 채연 채연"
      ],
      "execution_count": 6,
      "outputs": [
        {
          "output_type": "execute_result",
          "data": {
            "text/plain": [
              "3"
            ]
          },
          "metadata": {
            "tags": []
          },
          "execution_count": 6
        }
      ]
    },
    {
      "cell_type": "code",
      "metadata": {
        "colab": {
          "base_uri": "https://localhost:8080/"
        },
        "id": "QMqxgm9m05-q",
        "outputId": "dd0d025a-f01a-4c18-9fba-09710ef74d5a"
      },
      "source": [
        "n = list(input().split())\r\n",
        "\r\n",
        "name = input()\r\n",
        "\r\n",
        "n.count(name)\r\n",
        "\r\n",
        "\r\n",
        "\r\n",
        "print(name + \"(이)가 총\"+ str(n.count(name)) + '표로 반장이 되었습니다.')"
      ],
      "execution_count": 14,
      "outputs": [
        {
          "output_type": "stream",
          "text": [
            "원영 원영 은비 은비 은비 은비 채연 채연\n",
            "은비\n",
            "은비(이)가 총4표로 반장이 되었습니다.\n"
          ],
          "name": "stdout"
        }
      ]
    },
    {
      "cell_type": "code",
      "metadata": {
        "colab": {
          "base_uri": "https://localhost:8080/",
          "height": 228
        },
        "id": "YK1fqaW-3tiS",
        "outputId": "0fa686d9-08f2-4d91-a56d-4e3f94c4ab54"
      },
      "source": [
        "n = list(input().split())\r\n",
        "n.count(\" \")\r\n",
        "i = 0\r\n",
        "\r\n",
        "if i is max(n.count(name)):\r\n",
        "  print(name + \"(이)가 총\"+ str(n.count(\" \")) + '표로 반장이 되었습니다.')\r\n"
      ],
      "execution_count": 16,
      "outputs": [
        {
          "output_type": "stream",
          "text": [
            "원영 원영 은비 은비 은비 은비 채연 채연\n"
          ],
          "name": "stdout"
        },
        {
          "output_type": "error",
          "ename": "TypeError",
          "evalue": "ignored",
          "traceback": [
            "\u001b[0;31m---------------------------------------------------------------------------\u001b[0m",
            "\u001b[0;31mTypeError\u001b[0m                                 Traceback (most recent call last)",
            "\u001b[0;32m<ipython-input-16-2a50a959849a>\u001b[0m in \u001b[0;36m<module>\u001b[0;34m()\u001b[0m\n\u001b[1;32m      3\u001b[0m \u001b[0mi\u001b[0m \u001b[0;34m=\u001b[0m \u001b[0;36m0\u001b[0m\u001b[0;34m\u001b[0m\u001b[0;34m\u001b[0m\u001b[0m\n\u001b[1;32m      4\u001b[0m \u001b[0;34m\u001b[0m\u001b[0m\n\u001b[0;32m----> 5\u001b[0;31m \u001b[0;32mif\u001b[0m \u001b[0mi\u001b[0m \u001b[0;32mis\u001b[0m \u001b[0mmax\u001b[0m\u001b[0;34m(\u001b[0m\u001b[0mn\u001b[0m\u001b[0;34m.\u001b[0m\u001b[0mcount\u001b[0m\u001b[0;34m(\u001b[0m\u001b[0mname\u001b[0m\u001b[0;34m)\u001b[0m\u001b[0;34m)\u001b[0m\u001b[0;34m:\u001b[0m\u001b[0;34m\u001b[0m\u001b[0;34m\u001b[0m\u001b[0m\n\u001b[0m\u001b[1;32m      6\u001b[0m   \u001b[0mprint\u001b[0m\u001b[0;34m(\u001b[0m\u001b[0mname\u001b[0m \u001b[0;34m+\u001b[0m \u001b[0;34m\"(이)가 총\"\u001b[0m\u001b[0;34m+\u001b[0m \u001b[0mstr\u001b[0m\u001b[0;34m(\u001b[0m\u001b[0mn\u001b[0m\u001b[0;34m.\u001b[0m\u001b[0mcount\u001b[0m\u001b[0;34m(\u001b[0m\u001b[0;34m\" \"\u001b[0m\u001b[0;34m)\u001b[0m\u001b[0;34m)\u001b[0m \u001b[0;34m+\u001b[0m \u001b[0;34m'표로 반장이 되었습니다.'\u001b[0m\u001b[0;34m)\u001b[0m\u001b[0;34m\u001b[0m\u001b[0;34m\u001b[0m\u001b[0m\n",
            "\u001b[0;31mTypeError\u001b[0m: 'int' object is not iterable"
          ]
        }
      ]
    },
    {
      "cell_type": "code",
      "metadata": {
        "colab": {
          "base_uri": "https://localhost:8080/"
        },
        "id": "245fitcl6ZeY",
        "outputId": "72bc4bbe-85dd-450b-87c9-ee3060b5854a"
      },
      "source": [
        "## 문제 37\r\n",
        "a = input().split()\r\n",
        "\r\n",
        "b = list(set(a))\r\n",
        "\r\n",
        "max_mem = 0\r\n",
        "\r\n",
        "for i in range(len(b)): # 0,1,2 set의 순서를 정해준다.\r\n",
        "  if a.count(b[i]) > a.count(b[max_mem]):\r\n",
        "    max_mem = i #max_mem 은 최대값을 유지\r\n",
        "\r\n",
        "print(\"%s(이)가 총 %d 표로 반장이 되었습니다.\" % (b[max_mem], a.count(b[max_mem])))"
      ],
      "execution_count": 17,
      "outputs": [
        {
          "output_type": "stream",
          "text": [
            "원영 원영 은비 은비 은비 은비 채연 채연\n",
            "은비(이)가 총 4 표로 반장이 되었습니다.\n"
          ],
          "name": "stdout"
        }
      ]
    },
    {
      "cell_type": "code",
      "metadata": {
        "colab": {
          "base_uri": "https://localhost:8080/"
        },
        "id": "wFFhTCu7BB2B",
        "outputId": "94d3b9d8-e668-4d12-9a6d-7192a0d4e3ee"
      },
      "source": [
        "#문제 40\r\n",
        "n = input()\r\n",
        "print(n.replace('q','e'))"
      ],
      "execution_count": 44,
      "outputs": [
        {
          "output_type": "stream",
          "text": [
            "qwerty\n",
            "ewerty\n"
          ],
          "name": "stdout"
        }
      ]
    },
    {
      "cell_type": "code",
      "metadata": {
        "colab": {
          "base_uri": "https://localhost:8080/"
        },
        "id": "PonhYjepDye7",
        "outputId": "d70e3d33-e95c-4956-c83e-9670302c77ce"
      },
      "source": [
        "#문제 41 : 소수판별\r\n",
        "\r\n",
        "n = int(input())\r\n",
        "\r\n",
        "re = 0\r\n",
        "\r\n",
        "for i in range(1,n+1):\r\n",
        "  if n % i == 0:\r\n",
        "    re += 1\r\n",
        "\r\n",
        "if re == 2:\r\n",
        "  print(\"YES\")\r\n",
        "else:\r\n",
        "  print(\"NO\")"
      ],
      "execution_count": 14,
      "outputs": [
        {
          "output_type": "stream",
          "text": [
            "6\n",
            "NO\n"
          ],
          "name": "stdout"
        }
      ]
    },
    {
      "cell_type": "code",
      "metadata": {
        "colab": {
          "base_uri": "https://localhost:8080/"
        },
        "id": "14CbKIVAEh3B",
        "outputId": "a12a2584-67b5-4dd2-cbb1-4ed7bbadccec"
      },
      "source": [
        "## 문제 44 각 자리수의 합\r\n",
        "\r\n",
        "n = list(map(int,input()))\r\n",
        "sum = 0\r\n",
        "\r\n",
        "for i in n:\r\n",
        "  sum += i\r\n",
        "  i += 1\r\n",
        "\r\n",
        "print(sum)\r\n",
        "# print(sum(map(int,str(n))))\r\n"
      ],
      "execution_count": 37,
      "outputs": [
        {
          "output_type": "stream",
          "text": [
            "1234\n",
            "10\n"
          ],
          "name": "stdout"
        }
      ]
    },
    {
      "cell_type": "code",
      "metadata": {
        "colab": {
          "base_uri": "https://localhost:8080/"
        },
        "id": "PuAHzxwkQKu4",
        "outputId": "7f3a6713-f982-4339-9e5a-9da0f250ac76"
      },
      "source": [
        "## 문제 46 : str 자료형의 응용\r\n",
        "n = int(input())\r\n",
        "sum = 0\r\n",
        "for i in list(range((n+1))): \r\n",
        "  for j in str(i): \r\n",
        "    sum += int(j) \r\n",
        "  \r\n",
        "print(sum)\r\n",
        "\r\n"
      ],
      "execution_count": 77,
      "outputs": [
        {
          "output_type": "stream",
          "text": [
            "20\n",
            "102\n"
          ],
          "name": "stdout"
        }
      ]
    },
    {
      "cell_type": "code",
      "metadata": {
        "id": "SRoSczNxUzs4"
      },
      "source": [
        ""
      ],
      "execution_count": 77,
      "outputs": []
    }
  ]
}