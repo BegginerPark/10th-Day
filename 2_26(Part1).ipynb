{
  "nbformat": 4,
  "nbformat_minor": 0,
  "metadata": {
    "colab": {
      "name": "2.26(Part1).ipynb",
      "provenance": [],
      "collapsed_sections": [],
      "authorship_tag": "ABX9TyNVx+ggadRVS+vsMA57ZKS8",
      "include_colab_link": true
    },
    "kernelspec": {
      "name": "python3",
      "display_name": "Python 3"
    }
  },
  "cells": [
    {
      "cell_type": "markdown",
      "metadata": {
        "id": "view-in-github",
        "colab_type": "text"
      },
      "source": [
        "<a href=\"https://colab.research.google.com/github/BegginerPark/10th-Day/blob/main/2_26(Part1).ipynb\" target=\"_parent\"><img src=\"https://colab.research.google.com/assets/colab-badge.svg\" alt=\"Open In Colab\"/></a>"
      ]
    },
    {
      "cell_type": "code",
      "metadata": {
        "colab": {
          "base_uri": "https://localhost:8080/"
        },
        "id": "_OHH_nmywwMf",
        "outputId": "8007393e-d7b9-4461-df81-4a205e694df0"
      },
      "source": [
        "score = {'Yujin':70, 'Hyewon':100}\r\n",
        "print(score)"
      ],
      "execution_count": null,
      "outputs": [
        {
          "output_type": "stream",
          "text": [
            "{'Yujin': 70, 'Hyewon': 100}\n"
          ],
          "name": "stdout"
        }
      ]
    },
    {
      "cell_type": "code",
      "metadata": {
        "colab": {
          "base_uri": "https://localhost:8080/"
        },
        "id": "PXRzIv3VxzUy",
        "outputId": "215f17ca-e1b3-49fd-ade8-2be6a255412a"
      },
      "source": [
        "int1 = input(\" \")\r\n",
        "int2 = input(\" \")\r\n",
        "score = {int1:70, int2:100}\r\n",
        "print(score)"
      ],
      "execution_count": null,
      "outputs": [
        {
          "output_type": "stream",
          "text": [
            " Yujin\n",
            " Hyewon\n",
            "{'Yujin': 70, 'Hyewon': 100}\n"
          ],
          "name": "stdout"
        }
      ]
    },
    {
      "cell_type": "code",
      "metadata": {
        "colab": {
          "base_uri": "https://localhost:8080/"
        },
        "id": "K9uxEKZnymmn",
        "outputId": "376cbd04-68fa-4e1e-cd70-68e274561ba7"
      },
      "source": [
        "\r\n",
        "n = list(input().split())\r\n",
        "n1 = list(map(int,input().split()))\r\n",
        "score = {n[0]:n1[0],n[1]:n1[1]}\r\n",
        "print(score)\r\n"
      ],
      "execution_count": null,
      "outputs": [
        {
          "output_type": "stream",
          "text": [
            "Yujin Hyewon\n",
            "70 100\n",
            "{'Yujin': 70, 'Hyewon': 100}\n"
          ],
          "name": "stdout"
        }
      ]
    },
    {
      "cell_type": "code",
      "metadata": {
        "colab": {
          "base_uri": "https://localhost:8080/"
        },
        "id": "9lVbBKZTzPUv",
        "outputId": "98ab15ab-5ac8-4491-dc8e-0e54d37ddd96"
      },
      "source": [
        "# 데이터 입력 받아서 처리\r\n",
        "a = input().split()\r\n",
        "\r\n",
        "# 숫자 데이터 입력 받아서 숫자로 처리\r\n",
        "a = map(int, input().split())\r\n",
        "\r\n"
      ],
      "execution_count": null,
      "outputs": [
        {
          "output_type": "stream",
          "text": [
            "Yujin Hyewon\n",
            "70 100\n"
          ],
          "name": "stdout"
        }
      ]
    },
    {
      "cell_type": "code",
      "metadata": {
        "colab": {
          "base_uri": "https://localhost:8080/"
        },
        "id": "L95kR4qP26Sc",
        "outputId": "99fa4c05-e759-456b-908d-398aa38fa888"
      },
      "source": [
        "a = [1,2,3,4]\r\n",
        "b = [100,200,300,400]\r\n",
        "\r\n",
        "print(list(zip(a,b)))"
      ],
      "execution_count": null,
      "outputs": [
        {
          "output_type": "stream",
          "text": [
            "[(1, 100), (2, 200), (3, 300), (4, 400)]\n"
          ],
          "name": "stdout"
        }
      ]
    },
    {
      "cell_type": "code",
      "metadata": {
        "colab": {
          "base_uri": "https://localhost:8080/"
        },
        "id": "kRkp8kyP3GHD",
        "outputId": "cf7fdd77-f661-4461-cfe3-f68a8fed3f5b"
      },
      "source": [
        "key = input().split()\r\n",
        "value = map(int,input().split())\r\n",
        "\r\n",
        "print(dict(zip(key,value)))"
      ],
      "execution_count": null,
      "outputs": [
        {
          "output_type": "stream",
          "text": [
            "Yujin Hyewon\n",
            "70 100\n",
            "{'Yujin': 70, 'Hyewon': 100}\n"
          ],
          "name": "stdout"
        }
      ]
    },
    {
      "cell_type": "code",
      "metadata": {
        "colab": {
          "base_uri": "https://localhost:8080/"
        },
        "id": "33Nqnx5-3vG-",
        "outputId": "a6862a8a-4981-49e1-a4c9-c9ca4be34a5a"
      },
      "source": [
        "# 문제 28: 2-gram  입력된 문자를 2개씩 잘라서 나타내어라.\r\n",
        "n = input()\r\n",
        "for i in range(0,len(n)-1):\r\n",
        "  print(n[i],n[i+1],sep='')\r\n",
        "  \r\n"
      ],
      "execution_count": null,
      "outputs": [
        {
          "output_type": "stream",
          "text": [
            "Python\n",
            "Py\n",
            "yt\n",
            "th\n",
            "ho\n",
            "on\n"
          ],
          "name": "stdout"
        }
      ]
    },
    {
      "cell_type": "code",
      "metadata": {
        "colab": {
          "base_uri": "https://localhost:8080/"
        },
        "id": "pLzCpZWY54nC",
        "outputId": "a002b431-8cc1-4303-868f-b1e125361743"
      },
      "source": [
        "## 문제 29: 대문자만 지나가세요\r\n",
        "# isupper : 대문자인지 확인\r\n",
        "# islower : 소문자인지 확인\r\n",
        "# isdigit : 숫자인지 확인\r\n",
        "\r\n",
        "n = input()\r\n",
        "if n.isupper():\r\n",
        "  print('Yes')\r\n",
        "else:\r\n",
        "  print('No')\r\n",
        "\r\n"
      ],
      "execution_count": null,
      "outputs": [
        {
          "output_type": "stream",
          "text": [
            "O\n",
            "Yes\n"
          ],
          "name": "stdout"
        }
      ]
    },
    {
      "cell_type": "code",
      "metadata": {
        "colab": {
          "base_uri": "https://localhost:8080/"
        },
        "id": "MVF9pBRY_tz0",
        "outputId": "815243e5-e06b-449d-c3d0-f2bfce157404"
      },
      "source": [
        "## 문제 29  ord ascii 코드 사용\r\n",
        "n = ord(input())\r\n",
        "\r\n",
        "if n >= 65 and n <=90:\r\n",
        "  print(\"Yes\")\r\n",
        "else:\r\n",
        "  print(\"No\")\r\n",
        "  "
      ],
      "execution_count": null,
      "outputs": [
        {
          "output_type": "stream",
          "text": [
            "n\n",
            "No\n"
          ],
          "name": "stdout"
        }
      ]
    },
    {
      "cell_type": "code",
      "metadata": {
        "id": "XqPet6pQFXf8",
        "colab": {
          "base_uri": "https://localhost:8080/",
          "height": 228
        },
        "outputId": "22b3b81d-fb3a-4942-fd63-556370be631c"
      },
      "source": [
        "## 문제 30 문자열 속 문자 찾기\r\n",
        "txt = input()\r\n",
        "a = input()\r\n",
        "\r\n",
        "print(txt.index(a))"
      ],
      "execution_count": null,
      "outputs": [
        {
          "output_type": "stream",
          "text": [
            "pineapple is yummy\n",
            "banana\n"
          ],
          "name": "stdout"
        },
        {
          "output_type": "error",
          "ename": "ValueError",
          "evalue": "ignored",
          "traceback": [
            "\u001b[0;31m---------------------------------------------------------------------------\u001b[0m",
            "\u001b[0;31mValueError\u001b[0m                                Traceback (most recent call last)",
            "\u001b[0;32m<ipython-input-92-8f2b68004db3>\u001b[0m in \u001b[0;36m<module>\u001b[0;34m()\u001b[0m\n\u001b[1;32m      3\u001b[0m \u001b[0ma\u001b[0m \u001b[0;34m=\u001b[0m \u001b[0minput\u001b[0m\u001b[0;34m(\u001b[0m\u001b[0;34m)\u001b[0m\u001b[0;34m\u001b[0m\u001b[0;34m\u001b[0m\u001b[0m\n\u001b[1;32m      4\u001b[0m \u001b[0;34m\u001b[0m\u001b[0m\n\u001b[0;32m----> 5\u001b[0;31m \u001b[0mprint\u001b[0m\u001b[0;34m(\u001b[0m\u001b[0mtxt\u001b[0m\u001b[0;34m.\u001b[0m\u001b[0mindex\u001b[0m\u001b[0;34m(\u001b[0m\u001b[0ma\u001b[0m\u001b[0;34m)\u001b[0m\u001b[0;34m)\u001b[0m\u001b[0;34m\u001b[0m\u001b[0;34m\u001b[0m\u001b[0m\n\u001b[0m",
            "\u001b[0;31mValueError\u001b[0m: substring not found"
          ]
        }
      ]
    },
    {
      "cell_type": "code",
      "metadata": {
        "id": "HBpOvwxIMXrP"
      },
      "source": [
        "## 문제 31 파이썬 자료형의 복잡도\r\n",
        "# Big - O 표기  알고리즘 \r\n",
        "# O(1) = 한번에 값이 떨어지게 하는 것\r\n",
        "# l[i]        한번에 찾아냄\r\n",
        "# l.append(5) 한번에 추가됨\r\n",
        "# l[a:b]         x    a 부터 b 까지 계산 해야 되지 때문에 한번에 결과를 낼 수가 없음\r\n",
        "# l.pop()     한번에 마지막 것이 제거됨\r\n",
        "# l.clear()   한번에 지움\r\n"
      ],
      "execution_count": null,
      "outputs": []
    },
    {
      "cell_type": "code",
      "metadata": {
        "colab": {
          "base_uri": "https://localhost:8080/"
        },
        "id": "K5I0c0qPPASj",
        "outputId": "44a44316-d87b-475b-ccc1-7b464578765c"
      },
      "source": [
        "## 문제 32 : 문자열 만들기\r\n",
        "print(len(input().split()))"
      ],
      "execution_count": null,
      "outputs": [
        {
          "output_type": "stream",
          "text": [
            "저 넓은 세상을 네 눈앞에 그려봐 네 진심을 느껴봐\n",
            "9\n"
          ],
          "name": "stdout"
        }
      ]
    },
    {
      "cell_type": "code",
      "metadata": {
        "colab": {
          "base_uri": "https://localhost:8080/"
        },
        "id": "6M81ILcsQh2k",
        "outputId": "bf137648-16ea-4b82-9786-0dc1a280986a"
      },
      "source": [
        "txt = \"빅데이터 \"\r\n",
        "print(txt.strip()) # 앞과 마지막에 쓸데 없이 붙여진 띄어쓰기를 정리 해 준다."
      ],
      "execution_count": null,
      "outputs": [
        {
          "output_type": "stream",
          "text": [
            "빅데이터\n"
          ],
          "name": "stdout"
        }
      ]
    },
    {
      "cell_type": "code",
      "metadata": {
        "colab": {
          "base_uri": "https://localhost:8080/",
          "height": 228
        },
        "id": "oPoDfRWgTrd9",
        "outputId": "11e440dd-fd58-4d7e-cef6-38b393032982"
      },
      "source": [
        "# 문제 33 거꾸로 출력하기\r\n",
        "\r\n",
        "n = list(map(int,input().split()))\r\n",
        "\r\n",
        "for i in range(n-1,-1,-1):\r\n",
        "  print(i)"
      ],
      "execution_count": null,
      "outputs": [
        {
          "output_type": "stream",
          "text": [
            "1 2 3 4 5\n"
          ],
          "name": "stdout"
        },
        {
          "output_type": "error",
          "ename": "TypeError",
          "evalue": "ignored",
          "traceback": [
            "\u001b[0;31m---------------------------------------------------------------------------\u001b[0m",
            "\u001b[0;31mTypeError\u001b[0m                                 Traceback (most recent call last)",
            "\u001b[0;32m<ipython-input-149-8e824f7698db>\u001b[0m in \u001b[0;36m<module>\u001b[0;34m()\u001b[0m\n\u001b[1;32m      3\u001b[0m \u001b[0mn\u001b[0m \u001b[0;34m=\u001b[0m \u001b[0mlist\u001b[0m\u001b[0;34m(\u001b[0m\u001b[0mmap\u001b[0m\u001b[0;34m(\u001b[0m\u001b[0mint\u001b[0m\u001b[0;34m,\u001b[0m\u001b[0minput\u001b[0m\u001b[0;34m(\u001b[0m\u001b[0;34m)\u001b[0m\u001b[0;34m.\u001b[0m\u001b[0msplit\u001b[0m\u001b[0;34m(\u001b[0m\u001b[0;34m)\u001b[0m\u001b[0;34m)\u001b[0m\u001b[0;34m)\u001b[0m\u001b[0;34m\u001b[0m\u001b[0;34m\u001b[0m\u001b[0m\n\u001b[1;32m      4\u001b[0m \u001b[0;34m\u001b[0m\u001b[0m\n\u001b[0;32m----> 5\u001b[0;31m \u001b[0;32mfor\u001b[0m \u001b[0mi\u001b[0m \u001b[0;32min\u001b[0m \u001b[0mrange\u001b[0m\u001b[0;34m(\u001b[0m\u001b[0mn\u001b[0m\u001b[0;34m-\u001b[0m\u001b[0;36m1\u001b[0m\u001b[0;34m,\u001b[0m\u001b[0;34m-\u001b[0m\u001b[0;36m1\u001b[0m\u001b[0;34m,\u001b[0m\u001b[0;34m-\u001b[0m\u001b[0;36m1\u001b[0m\u001b[0;34m)\u001b[0m\u001b[0;34m:\u001b[0m\u001b[0;34m\u001b[0m\u001b[0;34m\u001b[0m\u001b[0m\n\u001b[0m\u001b[1;32m      6\u001b[0m   \u001b[0mprint\u001b[0m\u001b[0;34m(\u001b[0m\u001b[0mi\u001b[0m\u001b[0;34m)\u001b[0m\u001b[0;34m\u001b[0m\u001b[0;34m\u001b[0m\u001b[0m\n",
            "\u001b[0;31mTypeError\u001b[0m: unsupported operand type(s) for -: 'list' and 'int'"
          ]
        }
      ]
    },
    {
      "cell_type": "code",
      "metadata": {
        "colab": {
          "base_uri": "https://localhost:8080/"
        },
        "id": "gNafRGLHUT-S",
        "outputId": "9ee2c93b-a99e-4589-cfc5-644fb7f8b543"
      },
      "source": [
        "for i in range(10):\r\n",
        "  print(i)"
      ],
      "execution_count": null,
      "outputs": [
        {
          "output_type": "stream",
          "text": [
            "0\n",
            "1\n",
            "2\n",
            "3\n",
            "4\n",
            "5\n",
            "6\n",
            "7\n",
            "8\n",
            "9\n"
          ],
          "name": "stdout"
        }
      ]
    },
    {
      "cell_type": "code",
      "metadata": {
        "colab": {
          "base_uri": "https://localhost:8080/"
        },
        "id": "va9OxLysU3tW",
        "outputId": "bde05013-baa4-45a4-9720-3f14713c8896"
      },
      "source": [
        "txt = input()\r\n",
        "txt2 = list(txt.split())\r\n",
        "txt3 = [int(i) for i in txt2]\r\n",
        "for i in range(len(txt3)-1,-1,-1):\r\n",
        "  print(txt3[i], end=' ')"
      ],
      "execution_count": null,
      "outputs": [
        {
          "output_type": "stream",
          "text": [
            "1 2 3 4 5\n",
            "5 4 3 2 1 "
          ],
          "name": "stdout"
        }
      ]
    },
    {
      "cell_type": "code",
      "metadata": {
        "colab": {
          "base_uri": "https://localhost:8080/"
        },
        "id": "1n3oyeAUcFgz",
        "outputId": "b7a2644c-df54-477d-f39c-5cf360e974ca"
      },
      "source": [
        "## sorted  & sort\r\n",
        "# list.sort() 는 원본 리스트를 변경한다.\r\n",
        "# sorted(list) 는 정렬된 새로운 리스트를 반한 받는다.\r\n",
        "# list.sort() 는 새로운 복사본을 만들지 않기 때문에 sorted(list) 보다 빠르다.\r\n",
        "list = [1,3,2]\r\n",
        "print(list.sort())"
      ],
      "execution_count": null,
      "outputs": [
        {
          "output_type": "stream",
          "text": [
            "None\n"
          ],
          "name": "stdout"
        }
      ]
    },
    {
      "cell_type": "code",
      "metadata": {
        "colab": {
          "base_uri": "https://localhost:8080/"
        },
        "id": "pBruSQ9rcx_7",
        "outputId": "66ff8d97-aea4-447f-fd4b-da8cc195d341"
      },
      "source": [
        "print(list)"
      ],
      "execution_count": null,
      "outputs": [
        {
          "output_type": "stream",
          "text": [
            "[1, 2, 3]\n"
          ],
          "name": "stdout"
        }
      ]
    },
    {
      "cell_type": "code",
      "metadata": {
        "colab": {
          "base_uri": "https://localhost:8080/"
        },
        "id": "kGpKSGFReMk3",
        "outputId": "56b8fb00-d10c-4ba3-e624-8c8c46f7fcc9"
      },
      "source": [
        "list = [1,3,2]\r\n",
        "print(sorted(list))"
      ],
      "execution_count": null,
      "outputs": [
        {
          "output_type": "stream",
          "text": [
            "[1, 2, 3]\n"
          ],
          "name": "stdout"
        }
      ]
    },
    {
      "cell_type": "code",
      "metadata": {
        "colab": {
          "base_uri": "https://localhost:8080/"
        },
        "id": "CvWO4qAiehqy",
        "outputId": "52774164-afd0-4d69-f332-5ee4c94d73dc"
      },
      "source": [
        "print(list)\r\n",
        "176 156 155 165 166 169"
      ],
      "execution_count": null,
      "outputs": [
        {
          "output_type": "stream",
          "text": [
            "[1, 3, 2]\n"
          ],
          "name": "stdout"
        }
      ]
    },
    {
      "cell_type": "code",
      "metadata": {
        "colab": {
          "base_uri": "https://localhost:8080/"
        },
        "id": "AAZx47H4edfc",
        "outputId": "bf547460-7a42-432d-d0a7-4ccececc10cb"
      },
      "source": [
        "## 문제 34 : sort 구현하기\r\n",
        "num1 = input()\r\n",
        "num2 = num1.strip().split()\r\n",
        "num3 = [int(i) for i in num2]\r\n",
        "\r\n",
        "if num3 == sorted(num3):\r\n",
        "  print(\"YES\")\r\n",
        "else:\r\n",
        "  print(\"NO\")"
      ],
      "execution_count": null,
      "outputs": [
        {
          "output_type": "stream",
          "text": [
            "176 156 155 165 166 169\n",
            "NO\n"
          ],
          "name": "stdout"
        }
      ]
    },
    {
      "cell_type": "code",
      "metadata": {
        "colab": {
          "base_uri": "https://localhost:8080/"
        },
        "id": "diKD64d4e5RB",
        "outputId": "4348387e-dbe5-4c5d-8a66-11339d5b851a"
      },
      "source": [
        "## 문제36 : 구구단 출력하기\r\n",
        "n = int(input())\r\n",
        "\r\n",
        "for i in range(1,10):\r\n",
        "  print(n*i, end = ' ')"
      ],
      "execution_count": null,
      "outputs": [
        {
          "output_type": "stream",
          "text": [
            "2\n",
            "2 4 6 8 10 12 14 16 18 "
          ],
          "name": "stdout"
        }
      ]
    },
    {
      "cell_type": "code",
      "metadata": {
        "id": "D7gl1wYZjEUR"
      },
      "source": [
        ""
      ],
      "execution_count": null,
      "outputs": []
    }
  ]
}